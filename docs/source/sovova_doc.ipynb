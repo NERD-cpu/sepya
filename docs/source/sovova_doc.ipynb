{
 "cells": [
  {
   "cell_type": "markdown",
   "metadata": {},
   "source": [
    "# Modelo de Sovova\n"
   ]
  },
  {
   "cell_type": "markdown",
   "metadata": {},
   "source": [
    "\n",
    "En el modelo de Sovova se incluye un efecto de difusión adicinal que no es tenido en cuenta en el modelo de Lack, resultando en un modelo con una ventaja que permite modelar la pendiente de la primera fase de extracción de forma independiente de las otras 2 fases de extracción.\n",
    "\n",
    "\\begin{equation}\n",
    "z_k = \\frac{t_s}{t_r} \\frac{\\gamma y_r}{x_o} ln \\left( \\frac{x_o exp(\\frac{t-t_1}{t_s} )} {x_o - x_k} \\right)\n",
    "\\end{equation}\n",
    "\n",
    "\\begin{equation}\n",
    "t_1 = \\frac{x_o-x_k}{\\gamma y_r}t_f\n",
    "\\end{equation}\n",
    "\n",
    "\\begin{equation}\n",
    "t_2 = t_1+t_s ln \\left( \\frac{x_k}{x_o}+ \\left(1+\\frac{x_k}{x_o}\\right) exp \\left( \\frac{x_o}{\\gamma y_r} \\frac{t_r}{t_s}  \\right)   \\right)\n",
    "\\end{equation}\n",
    "\n",
    "\n",
    "\n",
    "\\begin{equation}\n",
    "e(t) = \\left\\{ \\begin{array}{lcc}\n",
    "             q y_r (1-exp(-A)) & t \\leq t_1 \\\\\n",
    "             \\\\ q' y_r [(t-t_1)exp(-A(1 - z_k))] &  t_1 < t \\leq t_2 \\\\\n",
    "             \\\\ x_o - \\frac{\\gamma y_r t_s}{t_r} &  t > t_2\n",
    "             \\end{array}\n",
    "   \\right.\n",
    "\\end{equation}\n",
    "\n"
   ]
  },
  {
   "cell_type": "markdown",
   "metadata": {},
   "source": [
    "\n"
   ]
  },
  {
   "cell_type": "markdown",
   "metadata": {},
   "source": [
    "\n",
    "\n",
    "\n",
    "\n",
    "\n",
    "\n",
    "\\renewcommand{\\abstractname}{Resumen}\n",
    "\\begin{abstract}\n",
    "\\normalsize \n",
    "\\begin{center}\\rule{0.9\\textwidth}{0.1mm} \\end{center}\n",
    "\\vspace*{0.5cm}\n",
    "\\end{abstract}\n",
    "\\renewcommand{\\abstractname}{Abstract}\n",
    "\\begin{abstract}\n",
    "\\normalsize \n",
    "\n",
    "Se desarrolló una herramienta para calcular y ajustar los parámetros de difusión y ruptura de matriz vegetal, de los modelos Broken and Intact Cell (BC), los cuales son ampliamente utilizandos en el análisis de la cinética de extracción de solutos inmersos en una matriz vegetal con fluidos supercriticos, permitiendo el procesamiento de los datos experimentales de forma simple para observar su comportamiento y agilizar el análisis del trabajo experimental.\n",
    "\n",
    "\\\\ \\\\\n",
    "Keywords: fluid supercritical, Python.\n",
    "\\begin{center}\\rule{0.9\\textwidth}{0.1mm} \\end{center}\n",
    "\\vspace*{0.5cm}\n",
    "\\end{abstract}\n",
    "\\end{@twocolumnfalse}\n",
    "]\n",
    "\n",
    "\\section{INTRODUCCIÓN}\n",
    "\n",
    "\\section{Sepy}\n",
    "\n",
    "\\href{http://www.sepy.io/}{\\textcolor{black}{\\underline{Sepy}}}\n",
    "es una librería implementada en el lenguaje de programación Python con licencia MIT, orientada al procesamiento y análisis de datos experimentales de la cinética de extracción con fluidos supercriticos basandose en los modelos denominados Broken and Intact Cell (BC), más conocidos en la literatura especializada como modelos de Sovova, los cuales son presentados en el apendice.\n",
    "\n",
    "La librería Sepy está disponible en Python Package Index (PyPI) para ser instalada facilmente a traves de internet, utilizando la instrucción en una terminal de comandos.\n",
    "\n",
    "\\begin{minted}[style=friendly]{python}\n",
    "pip install sepy\n",
    "\\end{minted}\n",
    "\n",
    "Una vez instalada la librería, se puede importar para comenzar con el análisis de datos de extracción junto con otras librerías python. \n",
    "\n",
    "\\begin{minted}[style=friendly]{python}\n",
    "\n",
    "import sepy as sep\n",
    "from sepy import CineticaExtraccion\n",
    "from sepy import CineticaExtraccionGUI\n",
    "\n",
    "extraccion_1 = CineticaExtraccion()\n",
    "\n",
    "interfaz_1 = CineticaExtraccionGUI()\n",
    "\n",
    "\\end{minted}\n",
    "\n",
    "Esta librería se puede utilizar de 2 formas, la primera es acceder a sus métodos y atributos por medio de código Python y la segunda forma es a través del framework Jupyter Notebook[x], el cual permite el uso interactivo de código enriquecido con diversos contenidos multimedia, imagenes, textos en diferentes formatos y widgets, siendo estos últimos utilizados por Sepy para facilitar el procesamiento de los datos experimentales de extracción, por medio de una interfaz gráfica de usuario como la que se muestra en la figura 1.\n",
    "\n",
    "\\begin{figure}[H]\n",
    "  \\centering\n",
    "    \\includegraphics[width=0.5\\textwidth]{sepy_gui}\n",
    "  \\caption{Uso interactivo de Sepy}\n",
    "  \\label{fig:ejemplo}\n",
    "\\end{figure}\n",
    "\n",
    "Por otro lado, en la figura 2 se muestra un esquema de la organización de los modulos relevantes de la librería Sepy, que se implmentaron sobre la base de librerías especializadas en el análisis de datos y calculo numérico como Numpy, Scipy Pandas y Matplotlib entre otras del ecosistema del lenguaje Python.\n",
    "\n",
    "\\begin{figure}[H]\n",
    "  \\centering\n",
    "    \\includegraphics[width=0.5\\textwidth]{sepy_p}\n",
    "  \\caption{Digrama de paquetes}\n",
    "  \\label{fig:ejemplo}\n",
    "\\end{figure}\n",
    "\n",
    "\\section{RESULTADOS Y DISCUSIÓN}\n",
    "\n",
    "Utilizando la librería desarrollada Sepy, se realizaron simulaciones y ajustes de parámetros de los modelos de extracción supercritica de los modelos de Reverchon y BC, tomando los datos experimentales de extracción con dioxido de carbono supercritico $scCO_2$ sobre 3 tipos de matriz vegetal: Yerba Bolbo, Yerba Brasil y Yerba Congorosa, cuyas propiedades son presentadas en la tabla 1.\n",
    "\n",
    "\\input{mytableMatrizVegetal}\n",
    "\n",
    "En la tabla 2 se muestra las condiciones de operación del sistema de extracción que incluye un equipo de ultrasonido para estimular la ructura de la matriz vegetal durante el proceso.\n",
    "\n",
    "\\input{mytable}\n",
    "\n",
    "En las figuras 3-15 se muestra el ajuste de los parámetros del modelo de extracción supercritica para los 3 tipos de matriz vegetal y condiciones de operación. En las cuales se puede observa que al incrementar la potencia del ultrasonido se presenta un aumento en el rendimiento de extracción como se esperaba,puesto que se promueve la ruptura de celulas de la matriz vegetal.\n",
    "\n",
    "\\begin{figure}[H]\n",
    "  \\centering\n",
    "    \\includegraphics[width=0.5\\textwidth]{bolbo_0W}\n",
    "  \\caption{Cinética de extracción con $scCO_2$}\n",
    "  \\label{fig:ejemplo}\n",
    "\\end{figure}\n",
    "\n",
    "\\begin{figure}[H]\n",
    "  \\centering\n",
    "    \\includegraphics[width=0.5\\textwidth]{bolbo_160W}\n",
    "  \\caption{Cinética de extracción con $scCO_2$}\n",
    "  \\label{fig:ejemplo}\n",
    "\\end{figure}\n",
    "\n",
    "\\begin{figure}[H]\n",
    "  \\centering\n",
    "    \\includegraphics[width=0.5\\textwidth]{bolbo_200W}\n",
    "  \\caption{Cinética de extracción con $scCO_2$}\n",
    "  \\label{fig:ejemplo}\n",
    "\\end{figure}\n",
    "\n",
    "\\begin{figure}[H]\n",
    "  \\centering\n",
    "    \\includegraphics[width=0.5\\textwidth]{bolbo_280W}\n",
    "  \\caption{Cinética de extracción con $scCO_2$}\n",
    "  \\label{fig:ejemplo}\n",
    "\\end{figure}\n",
    "\n",
    "\\begin{figure}[H]\n",
    "  \\centering\n",
    "    \\includegraphics[width=0.5\\textwidth]{bolbo_400W}\n",
    "  \\caption{Cinética de extracción con $scCO_2$}\n",
    "  \\label{fig:ejemplo}\n",
    "\\end{figure}\n",
    "\n",
    "\\begin{figure}[H]\n",
    "  \\centering\n",
    "    \\includegraphics[width=0.5\\textwidth]{brasil_0W}\n",
    "  \\caption{Cinética de extracción con $scCO_2$}\n",
    "  \\label{fig:ejemplo}\n",
    "\\end{figure}\n",
    "\n",
    "\\begin{figure}[H]\n",
    "  \\centering\n",
    "    \\includegraphics[width=0.5\\textwidth]{brasil_200W}\n",
    "  \\caption{Cinética de extracción con $scCO_2$}\n",
    "  \\label{fig:ejemplo}\n",
    "\\end{figure}\n",
    "\n",
    "\n",
    "\\begin{figure}[H]\n",
    "  \\centering\n",
    "    \\includegraphics[width=0.5\\textwidth]{brasil_280W}\n",
    "  \\caption{Cinética de extracción con $scCO_2$}\n",
    "  \\label{fig:ejemplo}\n",
    "\\end{figure}\n",
    "\n",
    "\\begin{figure}[H]\n",
    "  \\centering\n",
    "    \\includegraphics[width=0.5\\textwidth]{brasil_400W}\n",
    "  \\caption{Cinética de extracción con $scCO_2$}\n",
    "  \\label{fig:ejemplo}\n",
    "\\end{figure}\n",
    "\n",
    "\\begin{figure}[H]\n",
    "  \\centering\n",
    "    \\includegraphics[width=0.5\\textwidth]{congorosa_0W}\n",
    "  \\caption{Cinética de extracción con $scCO_2$}\n",
    "  \\label{fig:ejemplo}\n",
    "\\end{figure}\n",
    "\n",
    "\\begin{figure}[H]\n",
    "  \\centering\n",
    "    \\includegraphics[width=0.5\\textwidth]{congorosa_200W}\n",
    "  \\caption{Cinética de extracción con $scCO_2$}\n",
    "  \\label{fig:ejemplo}\n",
    "\\end{figure}\n",
    "\n",
    "\n",
    "\\begin{figure}[H]\n",
    "  \\centering\n",
    "    \\includegraphics[width=0.5\\textwidth]{congorosa_280W}\n",
    "  \\caption{Cinética de extracción con $scCO_2$}\n",
    "  \\label{fig:ejemplo}\n",
    "\\end{figure}\n",
    "\n",
    "\\begin{figure}[H]\n",
    "  \\centering\n",
    "    \\includegraphics[width=0.5\\textwidth]{congorosa_400W}\n",
    "  \\caption{Cinética de extracción con $scCO_2$}\n",
    "  \\label{fig:ejemplo}\n",
    "\\end{figure}\n",
    "\n",
    "\n",
    "\\input{datosExtraccion}\n",
    "\n",
    "\n",
    "\n",
    "\n",
    "\n",
    "\n",
    "\n"
   ]
  },
  {
   "cell_type": "code",
   "execution_count": null,
   "metadata": {
    "collapsed": true
   },
   "outputs": [],
   "source": [
    "import sepy as sep\n",
    "from sepy import CineticaExtraccion\n",
    "from sepy import CineticaExtraccionGUI\n",
    "\n",
    "extraccion_1 = CineticaExtraccion()\n",
    "\n",
    "interfaz_1 = CineticaExtraccionGUI()"
   ]
  },
  {
   "cell_type": "code",
   "execution_count": null,
   "metadata": {
    "collapsed": true
   },
   "outputs": [],
   "source": []
  },
  {
   "cell_type": "code",
   "execution_count": null,
   "metadata": {
    "collapsed": true
   },
   "outputs": [],
   "source": []
  },
  {
   "cell_type": "code",
   "execution_count": null,
   "metadata": {
    "collapsed": true
   },
   "outputs": [],
   "source": []
  },
  {
   "cell_type": "markdown",
   "metadata": {},
   "source": []
  },
  {
   "cell_type": "markdown",
   "metadata": {
    "collapsed": true
   },
   "source": [
    "## CONCLUSIÓN\n",
    "\n",
    "\n",
    "\n",
    "\n"
   ]
  },
  {
   "cell_type": "markdown",
   "metadata": {},
   "source": [
    "\n",
    "Se desarrolló la librería Sepy en el lenguaje de progrmación Python, como una herramienta que permite simplificar el procesamiento y análisis de datos experimentales de extracción con fluidos supercriticos utilizando modelos de cinética de extracción basados en las aproximaciones de reactores en serie de flujo piston y el modelo de celulas rotas e intectas, verificando su funcionamiento con datos experimentales de extracción de aceite escencial de 3 tipos de matriz vegetal utilizando $scCO_2$ y diferentes potencias de ultrasonido, cuyo incremento de potencia aumenta el rendimiento de extracción.\n",
    "\n",
    "\n",
    "En esta sección se presentan 3 de los modelos matemáticos comunmente utilizados en el análisis de la cinética de extracción con fluidos supercriticos.\n",
    "\n"
   ]
  },
  {
   "cell_type": "markdown",
   "metadata": {},
   "source": [
    "## Nomenclatura\n"
   ]
  },
  {
   "cell_type": "markdown",
   "metadata": {},
   "source": [
    "\n",
    "\n",
    "$a_0$ Surface, $\\frac{m^2}{m^3}$\n"
   ]
  },
  {
   "cell_type": "markdown",
   "metadata": {},
   "source": [
    "- E. Reverchon, Mathematical modelling of supercritical extraction of sage oil, AIChE J. 42 (1996) 1765–1771.\n",
    "- Amit Rai, Kumargaurao D.Punase, Bikash Mohanty, Ravindra Bhargava, Evaluation of models for supercritical fluid extraction, International Journal of Heat and Mass Transfer Volume 72, May 2014, Pages 274-287.\n"
   ]
  },
  {
   "cell_type": "code",
   "execution_count": null,
   "metadata": {
    "collapsed": true
   },
   "outputs": [],
   "source": []
  }
 ],
 "metadata": {
  "kernelspec": {
   "display_name": "Python [conda env:anaconda3]",
   "language": "python",
   "name": "conda-env-anaconda3-py"
  },
  "language_info": {
   "codemirror_mode": {
    "name": "ipython",
    "version": 3
   },
   "file_extension": ".py",
   "mimetype": "text/x-python",
   "name": "python",
   "nbconvert_exporter": "python",
   "pygments_lexer": "ipython3",
   "version": "3.5.4"
  }
 },
 "nbformat": 4,
 "nbformat_minor": 2
}
