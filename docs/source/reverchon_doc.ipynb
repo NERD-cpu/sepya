{
 "cells": [
  {
   "cell_type": "markdown",
   "metadata": {},
   "source": [
    "# Modelo de Reverchon\n"
   ]
  },
  {
   "cell_type": "markdown",
   "metadata": {},
   "source": [
    "El modelo de Reverchon resulta de realizar los balances de masa sobre el lecho de extracción utilizando la supocición de flujo pisto en el interior del lecho, despreciando la disperción axial y en las que se considera que tanto el flujo del fluido, la presión, temperatura se mantienen constantes.\n",
    "\n",
    "Estos balances de masa se muestran en las ecuaciones 1 y 2, los cuales son ecuaciones diferenciales que se resuelven con las condicones iniciales de la ecuación 3\n",
    "\n",
    "\\begin{equation}\n",
    "uV \\frac{\\partial c_c}{\\partial t}+eV \\frac{\\partial c_c}{\\partial t}+ AK(q-q^*) = 0\n",
    "\\end{equation}\n",
    "\n",
    "\\begin{equation}\n",
    "(1-e)VuV^* \\frac{\\partial c_q}{\\partial t}= -AK(q-q^*)\n",
    "\\end{equation}\n",
    "\n",
    "\\begin{eqnarray}\n",
    "C = 0 & q=q_0 %%& t = 0 &  c(0,t) & h=0\n",
    "\\end{eqnarray}\n",
    "\n",
    "El equilibrio de fases se modela por medio de la supocicón que se cumple la ley de henry como se muestra en la ecuación 4\n",
    "\n",
    "\\begin{equation}\n",
    "c = kq^*\n",
    "\\end{equation}\n",
    "\n",
    "Una simplificación habitual, es la de aproximar el el lecho de extracción como una serie de $(n)$ subdivisiones del lecho de extracción supercritica, permitiendo convertir los balances de masa en un sistema de $(2n)$ ecuaciones diferenciales ordinarias como se muestra en las ecuaciones 6 y 8\n",
    "\n",
    "\\begin{equation}\n",
    "D_n = \\left( \\frac{v}{n}\n",
    "\\right)  \\left( e  \\left( \\frac{dC_n}{dt} \\right) +(1-e) \\left( \\frac{dq_n}{dt} \\right) \n",
    "\\right) = 0\n",
    "\\end{equation}\n",
    "\n",
    "\\begin{equation}\n",
    "\\left(\\frac{W}{p} \\right)\n",
    "\\left( C_n- C_{n-1} \\right) + D_n = 0\n",
    "\\end{equation}\n",
    "\n",
    "\\begin{equation}\n",
    "\\left( \\frac{dq_n}{dt} \\right)= - \\left(\\frac{1}{t_i}\\right) \\left(q_n-q_n^* \\right)\n",
    "\\end{equation}\n",
    "\n",
    "condiciones iniciales:\n",
    "\n",
    "\\begin{eqnarray}\n",
    "C_n = C_n^0 & q_n = q_0\n",
    "\\end{eqnarray}\n",
    "\n",
    "\n"
   ]
  },
  {
   "cell_type": "code",
   "execution_count": null,
   "metadata": {
    "collapsed": true
   },
   "outputs": [],
   "source": []
  },
  {
   "cell_type": "markdown",
   "metadata": {},
   "source": [
    "## Nomenclatura\n"
   ]
  },
  {
   "cell_type": "markdown",
   "metadata": {},
   "source": [
    "\n",
    "\n",
    "$a_0$ Surface, $\\frac{m^2}{m^3}$\n"
   ]
  },
  {
   "cell_type": "code",
   "execution_count": null,
   "metadata": {
    "collapsed": true
   },
   "outputs": [],
   "source": []
  },
  {
   "cell_type": "code",
   "execution_count": null,
   "metadata": {
    "collapsed": true
   },
   "outputs": [],
   "source": []
  }
 ],
 "metadata": {
  "kernelspec": {
   "display_name": "Python [conda env:anaconda3]",
   "language": "python",
   "name": "conda-env-anaconda3-py"
  },
  "language_info": {
   "codemirror_mode": {
    "name": "ipython",
    "version": 3
   },
   "file_extension": ".py",
   "mimetype": "text/x-python",
   "name": "python",
   "nbconvert_exporter": "python",
   "pygments_lexer": "ipython3",
   "version": "3.5.4"
  }
 },
 "nbformat": 4,
 "nbformat_minor": 2
}
