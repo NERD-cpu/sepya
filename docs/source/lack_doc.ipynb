{
 "cells": [
  {
   "cell_type": "code",
   "execution_count": null,
   "metadata": {
    "collapsed": true
   },
   "outputs": [],
   "source": []
  },
  {
   "cell_type": "code",
   "execution_count": null,
   "metadata": {
    "collapsed": true
   },
   "outputs": [],
   "source": []
  },
  {
   "cell_type": "markdown",
   "metadata": {},
   "source": [
    "# Modelo de Lack\n"
   ]
  },
  {
   "cell_type": "markdown",
   "metadata": {},
   "source": [
    "\n",
    "El modelo del proceso de extracción supercritica parte de las ecuaciones de tranferencia de masa para describir la difusión del componente de interes dentro de una matriz vegetal como se muestra en la ecuación 9\n",
    "\n",
    "Ecuación de tranferencia de masa\n",
    "\n",
    "\\begin{equation}\n",
    "p_{f} E \\frac{\\partial y}{\\partial t}+ p_{f} U\\frac{\\partial y}{\\partial h} = J(x,y)\n",
    "\\end{equation}\n",
    "\n",
    "en los trabajos de Sovova [], se desarrolló el tema de la manipulación de la ecuación de transferencia de masa para obtener una solución análitica de este modelo, dando lugar a una función definida por partes para describir la cinética del rendidmiento de extracción, tal como se muestra en las ecuaciones (2)- (6)\n",
    "\n",
    "\\begin{equation}\n",
    "\\tau_{1} = \\frac{x_o-x_k}{yAy_r}\n",
    "\\end{equation}\n",
    "\n",
    "\\begin{equation}\n",
    "\\tau_{2} = \\tau_{1} + \\frac{xk}{\\gamma A y_r}ln \\left( \\frac{x_k}{x_o} + \\left( 1- \\frac{x_k}{x_o}\\right) e^\\frac{x_oA}{x_k}   \\right)\n",
    "\\end{equation}\n",
    "\n",
    "\\begin{equation}\n",
    "z_{k} = \\frac{x_k}{Ax_o} ln \\frac{(x_o e^\\frac{y A y_r}{x_k} (\\tau-\\tau_1) - x_k)}{x_o-x_k}\n",
    "\\end{equation}\n",
    "\n",
    "\n",
    "\\begin{equation}\n",
    "s_1 = \\gamma A y_r \\tau e^{(-Az)} \n",
    "\\end{equation}\n",
    "\n",
    "\\begin{equation}\n",
    "s_2 = (x_o - x_k) e^{(-A(z - z_k))} \n",
    "\\end{equation}\n",
    "\n",
    "\\begin{equation}\n",
    "s_3 = 1 + \\left( \\frac{x_o}{x_k} e^{\\left( \\frac{\\gamma Ay_r(\\tau-\\tau_1)} {x_k} \\right)}-1 \\right) e^{\\left( \\frac{-x_oAz} {x_k} \\right)} \n",
    "\\end{equation}\n",
    "\n",
    "\\begin{equation}\n",
    "x(\\tau,z) =\n",
    "\\begin{cases}\n",
    "x_o - s_1 & \\tau \\leq \\tau_1\\\\\n",
    "x_o - s_2 & \\tau > \\tau_1, z \\geq z_k \\\\\n",
    "\\frac{x_o}{s_3} & \\tau > \\tau_1, z<z_k\n",
    "\\end{cases}\n",
    "\\end{equation}\n",
    "\n",
    "\\begin{equation}\n",
    "u = 1 + \\frac{x_k}{x_o} \\left( e^\\frac{x_oA}{x_k} - 1 \\right)\n",
    "\\end{equation}\n",
    "\n",
    "\\begin{equation}\n",
    "e =\n",
    "\\begin{cases}\n",
    "\\gamma y_r \\tau (1- e^{(-A)} & \\tau \\leq \\tau_1\\\\\n",
    "\\gamma y_r  (\\tau - \\tau_1 e^{(-A(1 - z_k))} & \\tau_1 < \\tau \\leq \\tau_2\\\\\n",
    "x_o - \\frac{x_k}{A}ln(u) e^\\frac{yAy_r}{x_k}(\\tau_1 - \\tau) & \\tau \\geq \\tau_2\n",
    "\\end{cases}\n",
    "\\end{equation}\n"
   ]
  },
  {
   "cell_type": "code",
   "execution_count": null,
   "metadata": {
    "collapsed": true
   },
   "outputs": [],
   "source": []
  },
  {
   "cell_type": "code",
   "execution_count": null,
   "metadata": {
    "collapsed": true
   },
   "outputs": [],
   "source": []
  },
  {
   "cell_type": "code",
   "execution_count": null,
   "metadata": {
    "collapsed": true
   },
   "outputs": [],
   "source": []
  },
  {
   "cell_type": "code",
   "execution_count": null,
   "metadata": {
    "collapsed": true
   },
   "outputs": [],
   "source": []
  }
 ],
 "metadata": {
  "kernelspec": {
   "display_name": "Python [conda env:anaconda3]",
   "language": "python",
   "name": "conda-env-anaconda3-py"
  },
  "language_info": {
   "codemirror_mode": {
    "name": "ipython",
    "version": 3
   },
   "file_extension": ".py",
   "mimetype": "text/x-python",
   "name": "python",
   "nbconvert_exporter": "python",
   "pygments_lexer": "ipython3",
   "version": "3.5.4"
  }
 },
 "nbformat": 4,
 "nbformat_minor": 2
}
