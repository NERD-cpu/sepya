{
 "cells": [
  {
   "cell_type": "markdown",
   "metadata": {},
   "source": [
    "# Introducción"
   ]
  },
  {
   "cell_type": "markdown",
   "metadata": {},
   "source": [
    "\n",
    "La extracción con dioxido de carboono supercritico sc$CO_2$ es un proceso ampliamente utilizado en la industria de alimentos, farmaceutica, cosmetica y componentes bioactivos provenientes de yerbas y plantas.\n",
    "\n",
    "Con datos experimentales de la extracción con $CO_2$ supercritico ($sc CO_2$) de las yerbas de Boldo, \"Brasil\", Congorosa, Romero y \"Uruguay\".\n",
    "\n",
    "\n",
    "Una herramienta de análisis de datos para la cinética de extraccion con fluidos supercriticos"
   ]
  },
  {
   "cell_type": "markdown",
   "metadata": {},
   "source": [
    "Se desarrolló una herramienta para calcular y ajustar los parámetros de difusión y ruptura de matriz vegetal, de los modelos Broken and Intact Cell (BC), los cuales son ampliamente utilizandos en el análisis de la cinética de extracción de solutos inmersos en una matriz vegetal con fluidos supercriticos, permitiendo el procesamiento de los datos experimentales de forma simple para observar su comportamiento y agilizar el análisis del trabajo experimental.\n",
    "\n",
    "\n",
    "Palabras clave: fluido supercritico, Python.\n",
    "\n",
    "- Instituto de Investigación y Desarrollo en Ingeniería de Procesos y Químcia Aplicada (IPQA), Córdoba, Argentina\n",
    "- Facultad de Ciencias Exactas Físicas y Naturales, Universidad Nacional de Córdoba (UNC)\n",
    "- Instituto en toulouse\n",
    "- Universidad de la República, \n",
    "- Facultad de Química, Departamento Ciencia y Tecnología de Alimentos, Uruguay\n"
   ]
  },
  {
   "cell_type": "code",
   "execution_count": null,
   "metadata": {
    "collapsed": true
   },
   "outputs": [],
   "source": []
  },
  {
   "cell_type": "code",
   "execution_count": null,
   "metadata": {
    "collapsed": true
   },
   "outputs": [],
   "source": []
  },
  {
   "cell_type": "code",
   "execution_count": null,
   "metadata": {
    "collapsed": true
   },
   "outputs": [],
   "source": []
  },
  {
   "cell_type": "code",
   "execution_count": null,
   "metadata": {
    "collapsed": true
   },
   "outputs": [],
   "source": []
  },
  {
   "cell_type": "code",
   "execution_count": null,
   "metadata": {
    "collapsed": true
   },
   "outputs": [],
   "source": []
  }
 ],
 "metadata": {
  "kernelspec": {
   "display_name": "Python [conda env:anaconda3]",
   "language": "python",
   "name": "conda-env-anaconda3-py"
  },
  "language_info": {
   "codemirror_mode": {
    "name": "ipython",
    "version": 3
   },
   "file_extension": ".py",
   "mimetype": "text/x-python",
   "name": "python",
   "nbconvert_exporter": "python",
   "pygments_lexer": "ipython3",
   "version": "3.5.4"
  }
 },
 "nbformat": 4,
 "nbformat_minor": 2
}
